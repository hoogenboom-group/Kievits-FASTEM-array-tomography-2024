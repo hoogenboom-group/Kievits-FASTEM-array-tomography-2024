{
 "cells": [
  {
   "cell_type": "markdown",
   "metadata": {},
   "source": [
    "## **View MitoNet segmentations in 3D**\n",
    "---\n",
    "Visualize results from MitoNet segmentation\n",
    "\n",
    "|   | Dataset                   | Figure | Dwell time (µs) | No. of sections | ROA size (µm) |\n",
    "|---|---------------------------|--------|-----------------|-----------------|---------------|\n",
    "|   | 20230711_MCF7_UAc         | 6      | 20              | 54              | 240 x 240     |\n",
    "|   | 20230626_Rat_Pancreas_OTO | S3, S5 | 10              | 44              | 96 x 96       |"
   ]
  },
  {
   "cell_type": "code",
   "execution_count": 1,
   "metadata": {},
   "outputs": [],
   "source": [
    "# Data import\n",
    "import webknossos as wk\n",
    "import numpy as np\n",
    "\n",
    "# Napari\n",
    "import napari\n",
    "import src.importo"
   ]
  },
  {
   "cell_type": "code",
   "execution_count": 2,
   "metadata": {},
   "outputs": [],
   "source": [
    "# Create an empty viewer\n",
    "viewer = napari.Viewer()"
   ]
  },
  {
   "cell_type": "markdown",
   "metadata": {},
   "source": [
    "### **3.1 Configure dataset parameters**\n",
    "---"
   ]
  },
  {
   "cell_type": "markdown",
   "metadata": {},
   "source": [
    "#### **Dataset name**\n",
    "---\n",
    "Uncomment the one to view"
   ]
  },
  {
   "cell_type": "code",
   "execution_count": 3,
   "metadata": {},
   "outputs": [],
   "source": [
    "# dataset_full_url = 'https://webknossos.tnw.tudelft.nl/links/5Q_PJXjPPa4P3XBO' # 20230626_Rat_Pancreas_OTO\n",
    "dataset_full_url = 'https://webknossos.tnw.tudelft.nl/links/_eSz0uGGSzkZ1w__' # 20230711_MCF7_UAc\n",
    "\n",
    "## Mag \n",
    "mag_x_seg, mag_y_seg, mag_z_seg = 4, 4, 1 # For MitoNet predictions 4, 4, 1 or larger, no 2, 2, 1 and 1, 1, 1 exist!\n",
    "mag_x_EM, mag_y_EM, mag_z_EM = 4, 4, 1 # Show data at 4, 4, 1 Mag (4x downsampled / 16nm/pixel)\n",
    "\n",
    "MAG_seg = wk.Mag(f\"{mag_x_seg}-{mag_y_seg}-{mag_z_seg}\")\n",
    "MAG_EM = wk.Mag(f\"{mag_x_EM}-{mag_y_EM}-{mag_z_EM}\")"
   ]
  },
  {
   "cell_type": "markdown",
   "metadata": {},
   "source": [
    "#### **Layers and bounding boxes**\n",
    "---\n",
    "- Uncomment under the dataset header the layers to analyze. Either select \"fine aligned data\" or \"SOFIMA aligned data\" block \n",
    "- Bounding boxes apply to specific views of the data with ground truth annotations. `20230626_Rat_Pancreas_OTO`: use either bounding box 1 or 2, for `20230711_MCF7_UAc` there is only one bounding box"
   ]
  },
  {
   "cell_type": "markdown",
   "metadata": {},
   "source": [
    "`20230626_Rat_Pancreas_OTO`"
   ]
  },
  {
   "cell_type": "code",
   "execution_count": 4,
   "metadata": {},
   "outputs": [],
   "source": [
    "## FINE ALIGNED DATA\n",
    "# EM_layer = 'EM'\n",
    "# GT_layer = 'Mito_GT_EM'\n",
    "# mitonet_layer = 'EM_MitoNet'\n",
    "\n",
    "## SOFIMA ALIGNED DATA\n",
    "# EM_layer = 'EM_realigned_SOFIMA'\n",
    "# GT_layer = 'Mito_GT_EM_realigned_SOFIMA'\n",
    "# mitonet_layer = 'EM_realigned_SOFIMA_MitoNet'"
   ]
  },
  {
   "cell_type": "code",
   "execution_count": 5,
   "metadata": {},
   "outputs": [],
   "source": [
    "# ## BBOX 1 (RAT PANCREAS)\n",
    "# bbox_EM = wk.BoundingBox((14868, 13908, 0),\n",
    "#                           (2141, 2210, 38)).align_with_mag(MAG_seg) # ((x0, y0, z0), (x_size, y_size, z_size))\n",
    "# bbox_seg = wk.BoundingBox((14868, 13908, 0),\n",
    "#                           (2141, 2210, 38)).align_with_mag(MAG_seg) # ((x0, y0, z0), (x_size, y_size, z_size))\n",
    "\n",
    "## BBOX 2 (RAT PANCREAS)\n",
    "# bbox_EM = wk.BoundingBox((17277, 21620, 0),\n",
    "#                           (2141, 1963, 43)).align_with_mag(MAG_seg) # ((x0, y0, z0), (x_size, y_size, z_size))\n",
    "# bbox_seg = wk.BoundingBox((17277, 21620, 0),\n",
    "#                           (2141, 1963, 43)).align_with_mag(MAG_seg) # ((x0, y0, z0), (x_size, y_size, z_size))"
   ]
  },
  {
   "cell_type": "markdown",
   "metadata": {},
   "source": [
    "`20230711_MCF7_UAc`"
   ]
  },
  {
   "cell_type": "code",
   "execution_count": 6,
   "metadata": {},
   "outputs": [],
   "source": [
    "## FINE ALIGNED DATA\n",
    "EM_layer = 'EM'\n",
    "GT_layer = 'Mito_GT_EM'\n",
    "mitonet_layer = 'GT_EM_MitoNet'\n",
    "\n",
    "## SOFIMA ALIGNED DATA\n",
    "# EM_layer = 'GT_EM_realigned_SOFIMA'\n",
    "# GT_layer = 'Mito_GT_EM_realigned_SOFIMA'\n",
    "# mitonet_layer = 'GT_EM_realigned_SOFIMA_MitoNet'"
   ]
  },
  {
   "cell_type": "code",
   "execution_count": 7,
   "metadata": {},
   "outputs": [],
   "source": [
    "# BBOX 1 (MCF-7 cells)\n",
    "bbox_EM = wk.BoundingBox((25184, 52192, 0),\n",
    "                         (4416, 8256, 54)).align_with_mag(MAG_EM) # ((x0, y0, z0), (x_size, y_size, z_size))\n",
    "bbox_seg = wk.BoundingBox((25184, 52192, 0),\n",
    "                          (4416, 8256, 54)).align_with_mag(MAG_seg) # ((x0, y0, z0), (x_size, y_size, z_size))"
   ]
  },
  {
   "cell_type": "markdown",
   "metadata": {},
   "source": [
    "### **3.2 Read data from WebKnossos (remote)**\n",
    "---\n",
    "Reads data, segmentations, and ground truth annotations from remote `WebKnossos` dataset"
   ]
  },
  {
   "cell_type": "code",
   "execution_count": 8,
   "metadata": {},
   "outputs": [],
   "source": [
    "# For local access\n",
    "dataset, voxelsize = src.importo.import_wk_dataset_remote(dataset_full_url=dataset_full_url)\n",
    "scale_factor = voxelsize[2] / voxelsize[0] / (mag_x_EM / mag_z_EM) # determine scalefactor for viewing"
   ]
  },
  {
   "cell_type": "code",
   "execution_count": 9,
   "metadata": {},
   "outputs": [],
   "source": [
    "EM = dataset.get_layer(EM_layer) # EM Layer\n",
    "seg = dataset.get_layer(mitonet_layer) # MitoNet layer\n",
    "gt = dataset.get_layer(GT_layer) # GT layer\n",
    "\n",
    "mag_view = EM.get_mag(MAG_EM) # MagView\n",
    "mag_view_seg = seg.get_mag(MAG_seg) # MagView\n",
    "mag_view_gt = gt.get_mag(MAG_seg) # MagView\n",
    "\n",
    "view = mag_view.get_view(absolute_offset=bbox_EM.topleft, size=bbox_EM.size) # \"absolute_offset\" and \"size\" are in Mag(1)!\n",
    "view_seg = mag_view_seg.get_view(absolute_offset=bbox_seg.topleft, size=bbox_seg.size) # \"absolute_offset\" and \"size\" are in Mag(1)!\n",
    "view_gt = mag_view_gt.get_view(absolute_offset=bbox_seg.topleft, size=bbox_seg.size) # \"absolute_offset\" and \"size\" are in Mag(1)!\n",
    "    \n",
    "data = view.read()\n",
    "seg = view_seg.read()\n",
    "gt = view_gt.read()"
   ]
  },
  {
   "cell_type": "code",
   "execution_count": 10,
   "metadata": {},
   "outputs": [
    {
     "name": "stdout",
     "output_type": "stream",
     "text": [
      "(1104, 2064, 54)\n",
      "(1104, 2064, 54)\n",
      "(1104, 2064, 54)\n"
     ]
    }
   ],
   "source": [
    "data, seg, gt = np.squeeze(data), np.squeeze(seg), np.squeeze(gt)\n",
    "print(data.shape) # Coordinates are (x, y, z), but Napari weirdly reads this as (y, z, x)...\n",
    "print(seg.shape) # Coordinates are (x, y, z), but Napari weirdly reads this as (z, x, y)...\n",
    "print(gt.shape)# Coordinates are (x, y, z), but Napari weirdly reads this as (z, x, y)..."
   ]
  },
  {
   "cell_type": "code",
   "execution_count": 11,
   "metadata": {},
   "outputs": [],
   "source": [
    "# Pick segmentations where GT exists for evaluation\n",
    "seg_mitonet_filtered = np.where(gt > 0, seg, 0)\n",
    "\n",
    "# Include also predicted pixels of objects outside of GT pixels\n",
    "object_ids = np.unique(seg_mitonet_filtered)\n",
    "objects = np.isin(seg, list(object_ids))\n",
    "seg_mitonet_only_GT_objects = np.where(objects, seg, 0)\n",
    "\n",
    "# Rename\n",
    "seg = seg_mitonet_only_GT_objects"
   ]
  },
  {
   "cell_type": "markdown",
   "metadata": {},
   "source": [
    "### **3.2 Add data + segmentations to `Napari` viewer**\n",
    "---\n",
    "Reads data and segmentations from WebKnossos into `Napari`"
   ]
  },
  {
   "cell_type": "code",
   "execution_count": 12,
   "metadata": {},
   "outputs": [],
   "source": [
    "# Add data tp viewer\n",
    "viewer.add_image(np.transpose(data, (2, 0, 1)),\n",
    "                              scale=(scale_factor, 1, 1)) # Use scalefactor for realistic rendering\n",
    "\n",
    "# Add segmentation\n",
    "seg_layer = viewer.add_labels(np.transpose(seg, (2, 0, 1)), \n",
    "                              name='segmentation', \n",
    "                              scale=(scale_factor, mag_x_seg/mag_x_EM, mag_x_seg/mag_x_EM)) # Scale to EM  \n",
    "\n",
    "# Add ground truth\n",
    "gt_layer = viewer.add_labels(np.transpose(gt, (2, 0, 1)), \n",
    "                             name='ground truth', \n",
    "                             scale=(scale_factor, mag_x_seg/mag_x_EM, mag_x_seg/mag_x_EM)) # Scale to EM  "
   ]
  }
 ],
 "metadata": {
  "kernelspec": {
   "display_name": "mito-seg",
   "language": "python",
   "name": "python3"
  },
  "language_info": {
   "codemirror_mode": {
    "name": "ipython",
    "version": 3
   },
   "file_extension": ".py",
   "mimetype": "text/x-python",
   "name": "python",
   "nbconvert_exporter": "python",
   "pygments_lexer": "ipython3",
   "version": "3.9.19"
  },
  "orig_nbformat": 4
 },
 "nbformat": 4,
 "nbformat_minor": 2
}
