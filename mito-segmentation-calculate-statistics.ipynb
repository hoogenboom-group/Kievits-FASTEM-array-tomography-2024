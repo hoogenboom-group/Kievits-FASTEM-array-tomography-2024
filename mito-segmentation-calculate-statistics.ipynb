{
 "cells": [
  {
   "cell_type": "markdown",
   "metadata": {},
   "source": [
    "## **Calculate MitoNet performance metrics on FAST-EM data**\n",
    "---\n",
    "Calculate semantic and instance performance metrics of MitoNet on FAST-EM data\n",
    "\n",
    "|   | Dataset                   | Figure | Dwell time (µs) | No. of sections | ROA size (µm) |\n",
    "|---|---------------------------|--------|-----------------|-----------------|---------------|\n",
    "|   | 20230711_MCF7_UAc         | 6      | 20              | 54              | 240 x 240     |\n",
    "|   | 20230626_Rat_Pancreas_OTO | S5     | 10              | 44              | 96 x 96       |"
   ]
  },
  {
   "cell_type": "code",
   "execution_count": 1,
   "metadata": {},
   "outputs": [],
   "source": [
    "# Data import\n",
    "import webknossos as wk\n",
    "import numpy as np\n",
    "\n",
    "# Other routines\n",
    "import src.importo\n",
    "import src.performance_metrics"
   ]
  },
  {
   "cell_type": "markdown",
   "metadata": {},
   "source": [
    "### **3.1 Configure dataset parameters**\n",
    "---"
   ]
  },
  {
   "cell_type": "markdown",
   "metadata": {},
   "source": [
    "#### **Dataset name**\n",
    "---\n",
    "Uncomment the one to analyze"
   ]
  },
  {
   "cell_type": "code",
   "execution_count": 2,
   "metadata": {},
   "outputs": [],
   "source": [
    "# dataset_full_url = 'https://webknossos.tnw.tudelft.nl/links/5Q_PJXjPPa4P3XBO' # 20230626_Rat_Pancreas_OTO\n",
    "dataset_full_url = 'https://webknossos.tnw.tudelft.nl/links/_eSz0uGGSzkZ1w__' # 20230711_MCF7_UAc\n",
    "\n",
    "## Mag \n",
    "mag_x_seg, mag_y_seg, mag_z_seg = 4, 4, 1 # For MitoNet predictions 4, 4, 1 or larger, no 2, 2, 1 and 1, 1, 1 exist!\n",
    "mag_x_EM, mag_y_EM, mag_z_EM = 4, 4, 1 # Show data at 4, 4, 1 Mag (4x downsampled / 16nm/pixel)\n",
    "\n",
    "MAG_seg = wk.Mag(f\"{mag_x_seg}-{mag_y_seg}-{mag_z_seg}\")\n",
    "MAG_EM = wk.Mag(f\"{mag_x_EM}-{mag_y_EM}-{mag_z_EM}\")"
   ]
  },
  {
   "cell_type": "markdown",
   "metadata": {},
   "source": [
    "#### **Layers and bounding boxes**\n",
    "---\n",
    "- Uncomment under the dataset header the layers to analyze. Either select \"fine aligned data\" or \"SOFIMA aligned data\" block \n",
    "- Bounding boxes apply to specific views of the data with ground truth annotations. `20230626_Rat_Pancreas_OTO`: use either bounding box 1 or 2, for `20230711_MCF7_UAc` there is only one bounding box"
   ]
  },
  {
   "cell_type": "markdown",
   "metadata": {},
   "source": [
    "`20230626_Rat_Pancreas_OTO`"
   ]
  },
  {
   "cell_type": "code",
   "execution_count": 3,
   "metadata": {},
   "outputs": [],
   "source": [
    "## FINE ALIGNED DATA\n",
    "# EM_layer = 'EM'\n",
    "# GT_layer = 'Mito_GT_EM'\n",
    "# mitonet_layer = 'EM_MitoNet'\n",
    "\n",
    "## SOFIMA ALIGNED DATA\n",
    "# EM_layer = 'EM_realigned_SOFIMA'\n",
    "# GT_layer = 'Mito_GT_EM_realigned_SOFIMA'\n",
    "# mitonet_layer = 'EM_realigned_SOFIMA_MitoNet'"
   ]
  },
  {
   "cell_type": "code",
   "execution_count": null,
   "metadata": {},
   "outputs": [],
   "source": [
    "# ## BBOX 1 (RAT PANCREAS)\n",
    "# bbox_EM = wk.BoundingBox((14868, 13908, 0),\n",
    "#                           (2141, 2210, 38)).align_with_mag(MAG_seg) # ((x0, y0, z0), (x_size, y_size, z_size))\n",
    "# bbox_seg = wk.BoundingBox((14868, 13908, 0),\n",
    "#                           (2141, 2210, 38)).align_with_mag(MAG_seg) # ((x0, y0, z0), (x_size, y_size, z_size))\n",
    "\n",
    "## BBOX 2 (RAT PANCREAS)\n",
    "# bbox_EM = wk.BoundingBox((17277, 21620, 0),\n",
    "#                           (2141, 1963, 43)).align_with_mag(MAG_seg) # ((x0, y0, z0), (x_size, y_size, z_size))\n",
    "# bbox_seg = wk.BoundingBox((17277, 21620, 0),\n",
    "#                           (2141, 1963, 43)).align_with_mag(MAG_seg) # ((x0, y0, z0), (x_size, y_size, z_size))"
   ]
  },
  {
   "cell_type": "markdown",
   "metadata": {},
   "source": [
    "`20230711_MCF7_UAc`"
   ]
  },
  {
   "cell_type": "code",
   "execution_count": 6,
   "metadata": {},
   "outputs": [],
   "source": [
    "## FINE ALIGNED DATA\n",
    "EM_layer = 'EM'\n",
    "GT_layer = 'Mito_GT_EM'\n",
    "mitonet_layer = 'GT_EM_MitoNet'\n",
    "\n",
    "## SOFIMA ALIGNED DATA\n",
    "# EM_layer = 'GT_EM_realigned_SOFIMA'\n",
    "# GT_layer = 'Mito_GT_EM_realigned_SOFIMA'\n",
    "# mitonet_layer = 'GT_EM_realigned_SOFIMA_MitoNet'"
   ]
  },
  {
   "cell_type": "code",
   "execution_count": 7,
   "metadata": {},
   "outputs": [],
   "source": [
    "# BBOX 1 (MCF-7 cells)\n",
    "bbox_EM = wk.BoundingBox((25184, 52192, 0),\n",
    "                         (4416, 8256, 54)).align_with_mag(MAG_EM) # ((x0, y0, z0), (x_size, y_size, z_size))\n",
    "bbox_seg = wk.BoundingBox((25184, 52192, 0),\n",
    "                          (4416, 8256, 54)).align_with_mag(MAG_seg) # ((x0, y0, z0), (x_size, y_size, z_size))"
   ]
  },
  {
   "cell_type": "markdown",
   "metadata": {},
   "source": [
    "### **3.2 Read data from WebKnossos (remote)**\n",
    "---\n",
    "Reads data, segmentations, and ground truth annotations from remote `WebKnossos` dataset"
   ]
  },
  {
   "cell_type": "code",
   "execution_count": 4,
   "metadata": {},
   "outputs": [],
   "source": [
    "# Read dataset\n",
    "dataset, voxelsize = src.importo.import_wk_dataset_remote(dataset_full_url=dataset_full_url)\n",
    "scale_factor = voxelsize[2] / voxelsize[0] / (mag_x_EM / mag_z_EM) # determine scalefactor for viewing"
   ]
  },
  {
   "cell_type": "code",
   "execution_count": 8,
   "metadata": {},
   "outputs": [],
   "source": [
    "EM = dataset.get_layer(EM_layer) # EM Layer\n",
    "seg = dataset.get_layer(mitonet_layer) # MitoNet layer\n",
    "gt = dataset.get_layer(GT_layer) # GT layer\n",
    "\n",
    "mag_view = EM.get_mag(MAG_EM) # MagView\n",
    "mag_view_seg = seg.get_mag(MAG_seg) # MagView\n",
    "mag_view_gt = gt.get_mag(MAG_seg) # MagView\n",
    "\n",
    "view = mag_view.get_view(absolute_offset=bbox_EM.topleft, size=bbox_EM.size) # \"absolute_offset\" and \"size\" are in Mag(1)!\n",
    "view_seg = mag_view_seg.get_view(absolute_offset=bbox_seg.topleft, size=bbox_seg.size) # \"absolute_offset\" and \"size\" are in Mag(1)!\n",
    "view_gt = mag_view_gt.get_view(absolute_offset=bbox_seg.topleft, size=bbox_seg.size) # \"absolute_offset\" and \"size\" are in Mag(1)!\n",
    "    \n",
    "data = view.read()\n",
    "seg = view_seg.read()\n",
    "gt = view_gt.read()"
   ]
  },
  {
   "cell_type": "code",
   "execution_count": 9,
   "metadata": {},
   "outputs": [
    {
     "name": "stdout",
     "output_type": "stream",
     "text": [
      "(1104, 2064, 54)\n",
      "(1104, 2064, 54)\n",
      "(1104, 2064, 54)\n"
     ]
    }
   ],
   "source": [
    "data, seg, gt = np.squeeze(data), np.squeeze(seg), np.squeeze(gt)\n",
    "print(data.shape) # Coordinates are (x, y, z), but Napari weirdly reads this as (y, z, x)...\n",
    "print(seg.shape) # Coordinates are (x, y, z), but Napari weirdly reads this as (z, x, y)...\n",
    "print(gt.shape)# Coordinates are (x, y, z), but Napari weirdly reads this as (z, x, y)..."
   ]
  },
  {
   "cell_type": "code",
   "execution_count": 10,
   "metadata": {},
   "outputs": [],
   "source": [
    "# Pick segmentations where GT exists for evaluation\n",
    "seg_mitonet_filtered = np.where(gt > 0, seg, 0)\n",
    "\n",
    "# Include also predicted pixels of objects outside of GT pixels\n",
    "object_ids = np.unique(seg_mitonet_filtered)\n",
    "objects = np.isin(seg, list(object_ids))\n",
    "seg_mitonet_only_GT_objects = np.where(objects, seg, 0)"
   ]
  },
  {
   "cell_type": "markdown",
   "metadata": {},
   "source": [
    "### 3.2 **Compute performance metrics**\n",
    "---\n",
    "Computes (semantic) IoU. Then computes IoU matrix for all objects by iterating over all unique labels (Mitochondria instances) in both the GT and the MitoNet predictions and separating their masks. The IoU matrix is a one-to-one computation of all mask pairs and their IoU. Then, the masks are matched based on the highest IoU using the Hungarian algorithm as implemented in `scipy.optimize.linear_sum_assignment`. WARNING: Problem complexity scales poorly with volume size, this takes a long time to compute for the cell dataset (several hours)!!!\n",
    "\n",
    "Provided in the folder `iou_matrices` are the precomputed IOU matrics that can be used to evaluate the F1 and AP scores directly. \n",
    "\n",
    "With the IOU matrices, the following is computed\n",
    "- IoU\n",
    "- F1@50\n",
    "- F1@75\n",
    "- AP@50\n",
    "- AP@75"
   ]
  },
  {
   "cell_type": "code",
   "execution_count": 11,
   "metadata": {},
   "outputs": [],
   "source": [
    "# Reduce memory footprint\n",
    "gt = gt.astype('uint16')\n",
    "seg = seg.astype('uint16')"
   ]
  },
  {
   "cell_type": "code",
   "execution_count": 97,
   "metadata": {},
   "outputs": [],
   "source": [
    "# IoU score\n",
    "seg_semantic = np.where(seg_mitonet_only_GT_objects > 0, 1, 0)\n",
    "gt_semantic = np.where(gt > 0, 1, 0)\n",
    "iou = src.performance_metrics.compute_iou(seg_semantic, gt_semantic)"
   ]
  },
  {
   "cell_type": "markdown",
   "metadata": {},
   "source": [
    "### COMPUTATIONALLY EXPENSIVE"
   ]
  },
  {
   "cell_type": "code",
   "execution_count": 14,
   "metadata": {},
   "outputs": [],
   "source": [
    "# Separate instances and compute IoU matrix for matching instances. \n",
    "print('Separating prediction masks...')\n",
    "pred_masks = src.performance_metrics.separate_masks(seg)\n",
    "print('Separating GT masks...')\n",
    "gt_masks = src.performance_metrics.separate_masks(gt)\n",
    "print('Matching instances...')\n",
    "\n",
    "# Compute IoU matrix (This step takes the most time)\n",
    "iou_matrix = src.performance_metrics.compute_iou_matrix(pred_masks, gt_masks)"
   ]
  },
  {
   "cell_type": "code",
   "execution_count": 99,
   "metadata": {},
   "outputs": [],
   "source": [
    "### Can save IoU matrix to avoid running the computation multiple times...\n",
    "# np.save('iou_matrix_cells_rigid', iou_matrix)"
   ]
  },
  {
   "cell_type": "code",
   "execution_count": 12,
   "metadata": {},
   "outputs": [],
   "source": [
    "### Load IoU matrix if not performing the computation\n",
    "# iou_mat = np.load('iou_matrix_cells_realigned.npy')"
   ]
  },
  {
   "cell_type": "code",
   "execution_count": 107,
   "metadata": {},
   "outputs": [
    {
     "name": "stdout",
     "output_type": "stream",
     "text": [
      "Applying Hungarian algorithm...\n",
      "Finding matches...\n"
     ]
    }
   ],
   "source": [
    "# F1 score, AP score @ IoU thres\n",
    "IoU_thres=0.50\n",
    "tp, fp, fn, matches = src.performance_metrics.match_instances(pred_masks, gt_masks, iou_matrix, IoU_thres)"
   ]
  },
  {
   "cell_type": "code",
   "execution_count": 108,
   "metadata": {},
   "outputs": [
    {
     "name": "stdout",
     "output_type": "stream",
     "text": [
      "{'IoU': 0.7010335736051205, 'F1@50 score': 0.41964285714285715, 'AP@50 score': 0.2655367231638418}\n"
     ]
    }
   ],
   "source": [
    "f1_= src.performance_metrics.compute_f1(tp, fp, fn)\n",
    "ap_= src.performance_metrics.compute_ap(tp, fp, fn)\n",
    "scores = {\n",
    "    \"IoU\": iou,\n",
    "    f\"F1@{int(100*IoU_thres)} score\": f1_,\n",
    "    f\"AP@{int(100*IoU_thres)} score\": ap_\n",
    "}\n",
    "print(scores)"
   ]
  },
  {
   "cell_type": "code",
   "execution_count": 51,
   "metadata": {},
   "outputs": [
    {
     "name": "stdout",
     "output_type": "stream",
     "text": [
      "64 32 24\n"
     ]
    }
   ],
   "source": [
    "print(tp, fp, fn)"
   ]
  }
 ],
 "metadata": {
  "kernelspec": {
   "display_name": "mito-seg",
   "language": "python",
   "name": "python3"
  },
  "language_info": {
   "codemirror_mode": {
    "name": "ipython",
    "version": 3
   },
   "file_extension": ".py",
   "mimetype": "text/x-python",
   "name": "python",
   "nbconvert_exporter": "python",
   "pygments_lexer": "ipython3",
   "version": "3.9.19"
  },
  "orig_nbformat": 4
 },
 "nbformat": 4,
 "nbformat_minor": 2
}
